{
 "cells": [
  {
   "cell_type": "markdown",
   "metadata": {},
   "source": [
    "Create a treasure hunt game where a user has to figure out the location of the treasure on a grid by using just the commands of E, W, N, and S, indicating East, West, North, and South, respectively. \n",
    "\n",
    "REQUIREMENTS:\n",
    "1. Define the size of the grid. It could be any number, but start from 5\n",
    "2. Assign the player a random position on the map. Do the same for the location of the treasure. (HINT: use randint() to generate a random set of coordinates)\n",
    "    2.1. Since it's 2-dimensional grid, the location of both the player and the treasure will be coordinates, like (x,y)\n",
    "3. Decide the maximum moves the player can make and keep track of the number of moves.\n",
    "4. Calculate the initial distance between the player and the treasure location\n",
    "5. Allow player to make as many moves as maximum moves allowed\n",
    "    5.1. Depending on which direction the player moves (N, S, E, or W), recalculate player's position and their distance from the treasure location\n",
    "    5.2. If the move brings player closer to the treasure, let the user know that they are getting closer\n",
    "    5.3. If the move takes player away from the treasure, let the user know that they are moving farther\n",
    "    5.4. If the player makes an illegal move, then let the user know that that move is not allowed. \n",
    "    5.5. If the new player position is the same as the treasure position, let the user know that they have found the treasure\n",
    "    5.6. If the moves made by the player are the same as maximum moves allowed, let the user know that no more moves are possible and that they have lost the game. Also show them where the treasure was located.\n",
    "    5.7. If there are still moves left, then the game should continue and keep asking the user for their moves. \n"
   ]
  },
  {
   "cell_type": "code",
   "execution_count": 2,
   "metadata": {},
   "outputs": [
    {
     "name": "stdout",
     "output_type": "stream",
     "text": [
      "* * p * * \n",
      "* * * * * \n",
      "* * * * * \n",
      "* * * * * \n",
      "* * * * * \n",
      "[0, 4]\n",
      "2\n"
     ]
    },
    {
     "ename": "NameError",
     "evalue": "name 'true' is not defined",
     "output_type": "error",
     "traceback": [
      "\u001b[1;31m---------------------------------------------------------------------------\u001b[0m",
      "\u001b[1;31mNameError\u001b[0m                                 Traceback (most recent call last)",
      "\u001b[1;32m<ipython-input-2-877a37425205>\u001b[0m in \u001b[0;36m<module>\u001b[1;34m\u001b[0m\n\u001b[0;32m     40\u001b[0m \u001b[1;33m\u001b[0m\u001b[0m\n\u001b[0;32m     41\u001b[0m \u001b[1;33m\u001b[0m\u001b[0m\n\u001b[1;32m---> 42\u001b[1;33m \u001b[0mmy_function\u001b[0m\u001b[1;33m(\u001b[0m\u001b[1;33m)\u001b[0m\u001b[1;33m\u001b[0m\u001b[1;33m\u001b[0m\u001b[0m\n\u001b[0m\u001b[0;32m     43\u001b[0m \u001b[1;33m\u001b[0m\u001b[0m\n\u001b[0;32m     44\u001b[0m \u001b[1;33m\u001b[0m\u001b[0m\n",
      "\u001b[1;32m<ipython-input-2-877a37425205>\u001b[0m in \u001b[0;36mmy_function\u001b[1;34m()\u001b[0m\n\u001b[0;32m     20\u001b[0m     \u001b[0mposition\u001b[0m \u001b[1;33m=\u001b[0m \u001b[0mplayer_position\u001b[0m\u001b[1;33m\u001b[0m\u001b[1;33m\u001b[0m\u001b[0m\n\u001b[0;32m     21\u001b[0m     \u001b[0mmove\u001b[0m \u001b[1;33m=\u001b[0m \u001b[0minput\u001b[0m\u001b[1;33m(\u001b[0m\u001b[1;34m\"choice:\\n1.left\\n2.right\\n3.up\\n4.down\"\u001b[0m\u001b[1;33m)\u001b[0m\u001b[1;33m\u001b[0m\u001b[1;33m\u001b[0m\u001b[0m\n\u001b[1;32m---> 22\u001b[1;33m     \u001b[1;32mwhile\u001b[0m \u001b[1;33m(\u001b[0m\u001b[0mtrue\u001b[0m\u001b[1;33m)\u001b[0m\u001b[1;33m:\u001b[0m\u001b[1;33m\u001b[0m\u001b[1;33m\u001b[0m\u001b[0m\n\u001b[0m\u001b[0;32m     23\u001b[0m         \u001b[1;32mif\u001b[0m \u001b[0mmove\u001b[0m \u001b[1;33m==\u001b[0m \u001b[1;36m1\u001b[0m\u001b[1;33m:\u001b[0m\u001b[1;33m\u001b[0m\u001b[1;33m\u001b[0m\u001b[0m\n\u001b[0;32m     24\u001b[0m           \u001b[0mposition\u001b[0m\u001b[1;33m[\u001b[0m\u001b[1;36m0\u001b[0m\u001b[1;33m]\u001b[0m \u001b[1;33m-\u001b[0m \u001b[1;36m1\u001b[0m\u001b[1;33m\u001b[0m\u001b[1;33m\u001b[0m\u001b[0m\n",
      "\u001b[1;31mNameError\u001b[0m: name 'true' is not defined"
     ]
    }
   ],
   "source": [
    "import random\n",
    "\n",
    "grid_size = 5\n",
    "\n",
    "player_position=[random.randint(0, grid_size - 1), random.randint(0, grid_size - 1)]\n",
    "for i in range(5):\n",
    "    for j in range(5):\n",
    "        if i==player_position[0] and j==player_position[1]:\n",
    "            print(\"p\",end=' ')\n",
    "        else:\n",
    "            print(\"*\",end=' ')\n",
    "    print() \n",
    "\n",
    "treasure_position = [random.randint(0, grid_size - 1), random.randint(0, grid_size - 1)]\n",
    "print(treasure_position)\n",
    "distance = abs(player_position[0] - treasure_position[0])+abs(player_position[1] - treasure_position[1])\n",
    "print(distance)\n",
    "\n",
    "def my_function():\n",
    "    position = player_position\n",
    "    move = input(\"choice:\\n1.left\\n2.right\\n3.up\\n4.down\")\n",
    "    while (true):\n",
    "        if move == 1:\n",
    "          position[0] - 1\n",
    "        elif move == 2:\n",
    "          position[0] + 1\n",
    "        elif move == 3:\n",
    "          position[1] + 1\n",
    "        elif move == 4:\n",
    "          position[1] - 1\n",
    "        else:\n",
    "          print(\"try again\")\n",
    "\n",
    "\n",
    "    if position == treasure_position:\n",
    "        print(\"end\")\n",
    "    else:\n",
    "        my_function()\n",
    "\n",
    "\n",
    "\n",
    "my_function()\n",
    "\n",
    "\n",
    "\n"
   ]
  }
 ],
 "metadata": {
  "kernelspec": {
   "display_name": "Python 3",
   "language": "python",
   "name": "python3"
  },
  "language_info": {
   "codemirror_mode": {
    "name": "ipython",
    "version": 3
   },
   "file_extension": ".py",
   "mimetype": "text/x-python",
   "name": "python",
   "nbconvert_exporter": "python",
   "pygments_lexer": "ipython3",
   "version": "3.8.5"
  }
 },
 "nbformat": 4,
 "nbformat_minor": 2
}
